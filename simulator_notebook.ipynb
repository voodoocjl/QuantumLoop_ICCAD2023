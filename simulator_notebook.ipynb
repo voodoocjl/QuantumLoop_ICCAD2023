{
 "cells": [
  {
   "cell_type": "code",
   "execution_count": null,
   "metadata": {},
   "outputs": [],
   "source": [
    "import numpy as np\n",
    "from qiskit import QuantumCircuit, transpile\n",
    "import warnings\n",
    "warnings.filterwarnings('ignore')\n",
    "from qiskit import *\n",
    "import time\n",
    "from qiskit.quantum_info import SparsePauliOp\n",
    "from qiskit.providers.fake_provider import *\n",
    "from qiskit_aer.primitives import Estimator\n",
    "import qiskit_aer.noise as noise\n",
    "import pickle\n",
    "from utils import *\n",
    "from mitiq import zne"
   ]
  },
  {
   "cell_type": "markdown",
   "metadata": {},
   "source": [
    "Uncomment code below if running noise model 1!"
   ]
  },
  {
   "cell_type": "code",
   "execution_count": null,
   "metadata": {},
   "outputs": [],
   "source": [
    "id = 1\n",
    "circuit = QuantumCircuit.from_qasm_file('circuit_1')\n",
    "shot = 6000\n",
    "noise_factor = range(1, 6, 2)\n",
    "with open('fakekolkata.pkl', 'rb') as file:\n",
    "    noise_model = pickle.load(file)\n",
    "noise_model1 = noise.NoiseModel()\n",
    "noise_model = noise_model1.from_dict(noise_model)\n",
    "circuit.draw('mpl')"
   ]
  },
  {
   "cell_type": "markdown",
   "metadata": {},
   "source": [
    "Uncomment code below if running noise model 2!"
   ]
  },
  {
   "cell_type": "code",
   "execution_count": null,
   "metadata": {},
   "outputs": [],
   "source": [
    "# id = 2\n",
    "# circuit = QuantumCircuit.from_qasm_file('circuit_2')\n",
    "# shot = 6000\n",
    "# noise_factor = range(1, 10, 2)\n",
    "# with open('fakemontreal.pkl', 'rb') as file:\n",
    "#     noise_model = pickle.load(file)\n",
    "# noise_model1 = noise.NoiseModel()\n",
    "# noise_model = noise_model1.from_dict(noise_model)\n",
    "# circuit.draw('mpl')"
   ]
  },
  {
   "cell_type": "markdown",
   "metadata": {},
   "source": [
    "Uncomment code below if running noise model 3!"
   ]
  },
  {
   "cell_type": "code",
   "execution_count": null,
   "metadata": {},
   "outputs": [],
   "source": [
    "id = 3\n",
    "circuit = QuantumCircuit.from_qasm_file('circuit_3')\n",
    "shot = 1000\n",
    "noise_factor = range(3, 8, 2)\n",
    "with open('fakecairo.pkl', 'rb') as file:\n",
    "    noise_model = pickle.load(file)\n",
    "noise_model1 = noise.NoiseModel()\n",
    "noise_model = noise_model1.from_dict(noise_model)\n",
    "circuit.draw('mpl')"
   ]
  },
  {
   "cell_type": "markdown",
   "metadata": {},
   "source": [
    "Load Hamilton of OH. The observable file is generated through Hamiltonian/gen_hamiltonian.py"
   ]
  },
  {
   "cell_type": "code",
   "execution_count": null,
   "metadata": {},
   "outputs": [],
   "source": [
    "with open('Hamiltonian/observable', 'rb') as file:\n",
    "        [op_list, coeffs] = pickle.load(file)"
   ]
  },
  {
   "cell_type": "markdown",
   "metadata": {},
   "source": [
    "Set seed"
   ]
  },
  {
   "cell_type": "code",
   "execution_count": null,
   "metadata": {},
   "outputs": [],
   "source": [
    "seeds = [20, 21, 30, 33, 36, 42, 43, 55, 67, 170]\n",
    "seed = seeds[0]"
   ]
  },
  {
   "cell_type": "markdown",
   "metadata": {},
   "source": [
    "Mapping logic qubits and Change the observable order accroding to the mapping "
   ]
  },
  {
   "cell_type": "code",
   "execution_count": null,
   "metadata": {},
   "outputs": [],
   "source": [
    "system_model = FakeMontreal()\n",
    "transpiled_circuit = transpile(circuit, backend=system_model, seed_transpiler = seed)\n",
    "\n",
    "res=transpiled_circuit.layout.initial_layout.get_virtual_bits()\n",
    "maptable={}\n",
    "for s in res:    \n",
    "    if 'ancilla' not in s.register.name:\n",
    "        maptable[s.index] = res[s]\n",
    "\n",
    "# generate the observable \n",
    "labels= list(map(lambda s:rerange(s,maptable),op_list))\n",
    "observable = SparsePauliOp(labels, coeffs)"
   ]
  },
  {
   "cell_type": "markdown",
   "metadata": {},
   "source": [
    "Save transpiled circuit in QASM"
   ]
  },
  {
   "cell_type": "code",
   "execution_count": null,
   "metadata": {},
   "outputs": [],
   "source": [
    "import qiskit.qasm3 as qasm3\n",
    "with open('transpiled_circuit_{}.qasm'.format(id), 'w') as f:\n",
    "    qasm3.dump(transpiled_circuit, f)"
   ]
  },
  {
   "cell_type": "markdown",
   "metadata": {},
   "source": [
    "Pauli grouping: 631 pauli lists are patitioned into 39 commuting groups"
   ]
  },
  {
   "cell_type": "code",
   "execution_count": null,
   "metadata": {},
   "outputs": [],
   "source": [
    "# group observables using Qiskit built-it function group_commuting()\n",
    "grouped_observable = observable.group_commuting()    "
   ]
  },
  {
   "cell_type": "markdown",
   "metadata": {},
   "source": [
    "Fold transpiled_circuit by the noise_factor, if the number of noise_factor is n, then n circuits will be generated."
   ]
  },
  {
   "cell_type": "code",
   "execution_count": null,
   "metadata": {},
   "outputs": [],
   "source": [
    "from zne.noise_amplification import LocalFoldingAmplifier\n",
    "    \n",
    "local_amplifier = LocalFoldingAmplifier()\n",
    "circuits = []     \n",
    "n = 3\n",
    "for i in noise_factor:\n",
    "    noisy_circuit = local_amplifier.amplify_circuit_noise(circuit=transpiled_circuit, noise_factor=i)    \n",
    "    circuits.append(noisy_circuit)     "
   ]
  },
  {
   "cell_type": "code",
   "execution_count": null,
   "metadata": {},
   "outputs": [],
   "source": [
    "estimator = Estimator(\n",
    "        backend_options = {\n",
    "            'method': 'statevector',\n",
    "            'device': 'CPU',\n",
    "            'noise_model': noise_model\n",
    "        },\n",
    "        run_options = {\n",
    "            'shots': shot,\n",
    "            'seed': seed,\n",
    "        },\n",
    "        skip_transpilation=True\n",
    "    )    "
   ]
  },
  {
   "cell_type": "markdown",
   "metadata": {},
   "source": [
    "Simulate all folding circuits"
   ]
  },
  {
   "cell_type": "code",
   "execution_count": null,
   "metadata": {},
   "outputs": [],
   "source": [
    "s = time.time()\n",
    "results = []\n",
    "\n",
    "for i in range(len(noise_factor)):\n",
    "    result = 0\n",
    "    for num_group in range(len(grouped_observable)):\n",
    "        job = estimator.run(circuits[i], grouped_observable[num_group])        \n",
    "        result_values = job.result().values[0]        \n",
    "        result += result_values\n",
    "    results.append(result)\n",
    "e = time.time()\n",
    "print('Time:', e-s)"
   ]
  },
  {
   "cell_type": "markdown",
   "metadata": {},
   "source": [
    "AvS extrapolation method is applied for noise model 1 and 3, otherwise Richardson method will be used"
   ]
  },
  {
   "cell_type": "code",
   "execution_count": null,
   "metadata": {},
   "outputs": [],
   "source": [
    "if id == 1 or id == 3:\n",
    "    result = avs(results)\n",
    "else:\n",
    "    result = zne.RichardsonFactory.extrapolate(noise_factor, results)"
   ]
  },
  {
   "cell_type": "code",
   "execution_count": null,
   "metadata": {},
   "outputs": [],
   "source": [
    "print('Noise model {}'.format(id))\n",
    "print('seed:', seed)\n",
    "print('Energy:', result)"
   ]
  }
 ],
 "metadata": {
  "kernelspec": {
   "display_name": "qiskit",
   "language": "python",
   "name": "python3"
  },
  "language_info": {
   "codemirror_mode": {
    "name": "ipython",
    "version": 3
   },
   "file_extension": ".py",
   "mimetype": "text/x-python",
   "name": "python",
   "nbconvert_exporter": "python",
   "pygments_lexer": "ipython3",
   "version": "3.11.4"
  }
 },
 "nbformat": 4,
 "nbformat_minor": 2
}
